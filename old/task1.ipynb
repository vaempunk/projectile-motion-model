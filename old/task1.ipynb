{
 "cells": [
  {
   "attachments": {},
   "cell_type": "markdown",
   "metadata": {},
   "source": [
    "![](./Untitled.png)"
   ]
  },
  {
   "cell_type": "code",
   "execution_count": 1,
   "metadata": {},
   "outputs": [
    {
     "name": "stdout",
     "output_type": "stream",
     "text": [
      "Результат: [1.55563492]\n"
     ]
    }
   ],
   "source": [
    "import numpy as np\n",
    "import scipy.optimize as spo\n",
    "\n",
    "v0 = float(input('Введите начальную скорость'))\n",
    "theta = np.radians(int(input('Введите угол броска - от горизонта')))\n",
    "phi = lambda x: 0\n",
    "g = 10\n",
    "\n",
    "res_func = lambda t: phi(v0 * np.cos(theta) * t) - v0*np.sin(theta)*t + g*t**2/2\n",
    "starting_estimate = 1\n",
    "ans = spo.fsolve(res_func, starting_estimate)\n",
    "while ans == 0:\n",
    "    starting_estimate *= 2\n",
    "    ans = spo.fsolve(res_func, starting_estimate)\n",
    "print('Результат:', ans)"
   ]
  },
  {
   "attachments": {},
   "cell_type": "markdown",
   "metadata": {},
   "source": [
    "# 1 Аналитический метод\n",
    "\n",
    "## Условие\n",
    "\n",
    "Дана система уравнений:\n",
    "$$\n",
    "\\begin{cases}\n",
    "mx'' = -cx'  &(1) \\\\\n",
    "my'' = -cy' - mg &(2) \\\\\n",
    "x'(0) = v_0 \\cos{\\alpha} &(3) \\\\\n",
    "y'(0) = v_0 \\sin{\\alpha} &(4) \\\\\n",
    "x(0) = x_0 \\\\\n",
    "y(0) = y_0 \\\\\n",
    "y(x(t)) = \\phi (x(t)) \\\\\n",
    "\\end{cases}\n",
    "$$\n",
    "\n",
    "## Решение\n",
    "\n",
    "Решим систему уравнений аналитическим методом:\n",
    "\n",
    "$$\n",
    "z = x'\n",
    "m \\frac{dz}{dt} = -cz \\\\\n",
    "\\frac{dz}{z} = - \\frac{c}{m} dt \\\\\n",
    "\\ln(z C_1) = - \\frac{c}{m} t \\\\\n",
    "z = e^{- \\frac{c}{m} t} / C_1 \\\\\n",
    "z(0) = v_0 \\cos{\\alpha} => \\frac{1}{C_1} = v_0 \\cos{\\alpha} => C_1 = \\frac{1}{\\cos{\\alpha}} => z = e^{- \\frac{c}{m} t} v_0 \\cos{\\alpha}\n",
    "\n",
    "\n",
    "$$"
   ]
  },
  {
   "attachments": {},
   "cell_type": "markdown",
   "metadata": {},
   "source": [
    "![](./Untitled1.png)"
   ]
  },
  {
   "cell_type": "code",
   "execution_count": 2,
   "metadata": {},
   "outputs": [
    {
     "name": "stdout",
     "output_type": "stream",
     "text": [
      "Время полета: [1.18534593]\n"
     ]
    }
   ],
   "source": [
    "import numpy as np\n",
    "import scipy.optimize as spo\n",
    "\n",
    "# initial_coords = list(map(float, input('Введите начальные координаты ').split()))\n",
    "x0, y0 = 0, 0\n",
    "v0 = 10\n",
    "theta = np.radians(45)\n",
    "m = 1\n",
    "c = 1\n",
    "# v0 = float(input('Введите начальную скорость '))\n",
    "# theta = np.radians(float(input('Введите угол броска над горизонтом ')))\n",
    "# m = float(input('Введите массу тела '))\n",
    "# c = float(input('Введите коэффициент сопротивления воздуха '))\n",
    "g = 10\n",
    "t_max = 3600000\n",
    "phi = lambda x: 0\n",
    "assert c != 0\n",
    "res_func = lambda t: \\\n",
    "        y0 + m/c * ((m/c*g + v0*np.sin(theta)) * (1 - np.exp(-c/m*t)) - g*t) \\\n",
    "        - phi(x0 + m/c*v0*np.cos(theta)*(-np.exp(-c/m*t) + 1))\n",
    "starting_estimate = 1\n",
    "ans = spo.fsolve(res_func, 1)\n",
    "while ans == 0:\n",
    "    starting_estimate *= 2\n",
    "    ans = spo.fsolve(res_func, 1)\n",
    "    if starting_estimate > t_max / 2:\n",
    "        print('Время полета не найдено ')\n",
    "        break\n",
    "print('Время полета:', ans)\n"
   ]
  },
  {
   "attachments": {},
   "cell_type": "markdown",
   "metadata": {},
   "source": [
    "![](./Untitled2.png)"
   ]
  },
  {
   "cell_type": "code",
   "execution_count": 57,
   "metadata": {},
   "outputs": [],
   "source": [
    "import numpy as np\n",
    "import pandas as pd"
   ]
  },
  {
   "cell_type": "code",
   "execution_count": 63,
   "metadata": {},
   "outputs": [],
   "source": [
    "# initial_coords = list(map(float, input('Введите начальные координаты ').split()))\n",
    "x0, y0 = 0, 0\n",
    "v0 = 10\n",
    "theta = np.radians(45)\n",
    "m = 1\n",
    "c = 1\n",
    "# v0 = float(input('Введите начальную скорость '))\n",
    "# theta = np.radians(float(input('Введите угол броска над горизонтом ')))\n",
    "# m = float(input('Введите массу тела '))\n",
    "# c = float(input('Введите коэффициент сопротивления воздуха '))\n",
    "g = 10\n",
    "t_max = 3600000\n",
    "phi = lambda x: np.sin(x)\n",
    "assert c != 0"
   ]
  },
  {
   "cell_type": "code",
   "execution_count": 64,
   "metadata": {},
   "outputs": [],
   "source": [
    "def f(t, y):\n",
    "    dy0 = -c/m * y[0]\n",
    "    dy1 = y[0]\n",
    "    dy2 = -(c*y[2] + m*g) / m\n",
    "    dy3 = y[2]\n",
    "    return np.array([dy0, dy1, dy2, dy3])"
   ]
  },
  {
   "cell_type": "code",
   "execution_count": 65,
   "metadata": {},
   "outputs": [
    {
     "name": "stdout",
     "output_type": "stream",
     "text": [
      "(0.0, 0.0, 0.0)\n",
      "(0.0001, 0.0007070714270259702, 0.000707021428692595)\n",
      "(0.0, 0.0, 0.0)\n"
     ]
    }
   ],
   "source": [
    "t = 0.0\n",
    "t_old = t\n",
    "res = np.array([v0*np.cos(theta), x0, v0 * np.sin(theta), y0])\n",
    "res_old = res\n",
    "h = 0.0001\n",
    "history = [(t, res[1], res[3])]\n",
    "# np.append(history, (t, res[1], res[3]))\n",
    "while t < t_max and res[3] >= phi(res[1]):\n",
    "        t_old = t\n",
    "        res_old = res.copy()\n",
    "        k1 = f(t, res)\n",
    "        k2 = f(t + h/2, res + h/2*k1)\n",
    "        k3 = f(t + h/2, res + h/2*k2)\n",
    "        k4 = f(t + h, res + h*k3)\n",
    "        res += h/6 * (k1 + 2*k2 + 2*k3 + k4)\n",
    "        t += h\n",
    "        history.append((t, res[1], res[3]))\n",
    "assert t < t_max\n",
    "print(history[0])\n",
    "print(history[-1])\n",
    "print(history[-2])"
   ]
  },
  {
   "cell_type": "code",
   "execution_count": 66,
   "metadata": {},
   "outputs": [],
   "source": [
    "# interpolation of `history`\n",
    "def polinom(t, ts, xs):\n",
    "    l = []\n",
    "    for i in range(len(ts)):\n",
    "        li = 1\n",
    "        for j in range(0, i):\n",
    "            li *= (t - ts[j]) / (ts[i] - ts[j])\n",
    "        for j in range(i+1, len(ts)):\n",
    "            li *= (t - ts[j]) / (ts[i] - ts[j])\n",
    "        l.append(li)\n",
    "    ll = 0.0\n",
    "    for i in range(len(xs)):\n",
    "        ll += l[i] * xs[i]\n",
    "    return ll"
   ]
  },
  {
   "cell_type": "code",
   "execution_count": 67,
   "metadata": {},
   "outputs": [
    {
     "name": "stdout",
     "output_type": "stream",
     "text": [
      "Время полета: 0.0\n",
      "x: 0.0\n",
      "y: 0.0\n"
     ]
    }
   ],
   "source": [
    "ts, xs, ys = zip(*history[-5:])\n",
    "t_before, x_before, y_before = history[-1]\n",
    "t_after, x_after, y_after = history[-2]\n",
    "\n",
    "eps = 0.00000001\n",
    "def res_func(t):\n",
    "    return polinom(t, ts, ys) - phi(polinom(t, ts, xs))\n",
    "\n",
    "ans = t_after\n",
    "ans_old = t_before\n",
    "while np.abs(ans - ans_old) > eps:\n",
    "    new_ans = ans_old - res_func(ans_old) * (ans - ans_old) / (res_func(ans) - res_func(ans_old))\n",
    "    ans_old = ans\n",
    "    ans = new_ans \n",
    "print('Время полета:', ans)\n",
    "print('x:', polinom(ans, ts, xs))\n",
    "print('y:', polinom(ans, ts, ys))\n"
   ]
  }
 ],
 "metadata": {
  "kernelspec": {
   "display_name": "data-analysis-env",
   "language": "python",
   "name": "python3"
  },
  "language_info": {
   "codemirror_mode": {
    "name": "ipython",
    "version": 3
   },
   "file_extension": ".py",
   "mimetype": "text/x-python",
   "name": "python",
   "nbconvert_exporter": "python",
   "pygments_lexer": "ipython3",
   "version": "3.10.6"
  },
  "orig_nbformat": 4,
  "vscode": {
   "interpreter": {
    "hash": "af6a7988f452c37ccf59d8d393496d32310a95d990e26fe6c436256bb047b439"
   }
  }
 },
 "nbformat": 4,
 "nbformat_minor": 2
}
